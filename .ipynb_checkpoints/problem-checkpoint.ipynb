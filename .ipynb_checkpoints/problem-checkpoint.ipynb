{
 "cells": [
  {
   "cell_type": "markdown",
   "metadata": {},
   "source": [
    "- 두개의 정수 n,m이 주어집니다. 반복문을 사용하지 않고 가로가 n, 세로가 m인 * 로 이루어진 사각형을 출력해주세요\n",
    "\n",
    "- 예시\n",
    "    - n : 5 / m : 4\n",
    "    ```\n",
    "    *****\n",
    "    *****\n",
    "    *****\n",
    "    *****\n",
    "    ```"
   ]
  },
  {
   "cell_type": "code",
   "execution_count": 3,
   "metadata": {},
   "outputs": [
    {
     "name": "stdout",
     "output_type": "stream",
     "text": [
      "*****\n",
      "*****\n",
      "*****\n",
      "*****\n",
      "\n"
     ]
    }
   ],
   "source": [
    "n = 5\n",
    "m = 4\n",
    "a = \"*\"*n\n",
    "b = f\"{a}\\n\"*m\n",
    "print(b)"
   ]
  },
  {
   "cell_type": "code",
   "execution_count": 13,
   "metadata": {},
   "outputs": [
    {
     "name": "stdout",
     "output_type": "stream",
     "text": [
      "(1, 2, 3, 4, 1, 2, 3, 4, 1, 2, 3, 4, 1, 2, 3, 4, 1, 2, 3, 4, 1, 2, 3, 4)\n"
     ]
    }
   ],
   "source": []
  },
  {
   "cell_type": "markdown",
   "metadata": {},
   "source": [
    "- 다음 딕셔너리에서 평균 점수를 구하세요\n",
    "```\n",
    "student = {'python':80, 'algorithm':78, 'django':95, 'flask':80}\n",
    "```"
   ]
  },
  {
   "cell_type": "code",
   "execution_count": 19,
   "metadata": {},
   "outputs": [
    {
     "name": "stdout",
     "output_type": "stream",
     "text": [
      "83.25\n"
     ]
    }
   ],
   "source": [
    "student = {'python':80, 'algorithm':78, 'django':95, 'flask':80}\n",
    "\n",
    "# 헐 이렇게도 된다고????\n",
    "# print(sum(student.values()) / len(student))\n",
    "\n",
    "a=0\n",
    "for score in student.values():\n",
    "    a=score+a\n",
    "print(a/len(student))\n",
    "    \n"
   ]
  },
  {
   "cell_type": "markdown",
   "metadata": {},
   "source": [
    "- 다음은 학생들의 혈액형(A,B,O,AB)에 대한 데이터 이다.\n",
    "- for문을 활용하여 각 혈액형별 학생수를 구하세요\n",
    "```python\n",
    "blood = ['A','B','O','A','B','A','AB','AB','O','A','O','AB','O']\n",
    "```"
   ]
  },
  {
   "cell_type": "code",
   "execution_count": 24,
   "metadata": {},
   "outputs": [
    {
     "name": "stdout",
     "output_type": "stream",
     "text": [
      "A\n",
      "B\n",
      "O\n",
      "A\n",
      "B\n",
      "A\n",
      "AB\n",
      "AB\n",
      "O\n",
      "A\n",
      "O\n",
      "AB\n",
      "O\n"
     ]
    }
   ],
   "source": [
    "blood = ['A','A','B','O','A','B','A','AB','AB','O','A','O','AB','O']\n",
    "\n",
    "blood_dict = {'A':1}\n",
    "\n",
    "for b in blood:\n",
    "    print(b)\n",
    "    if b in blood_dict:\n",
    "        \n",
    "    else:\n",
    "        blood_dict[b] = 1\n",
    "\n",
    "# a = 0\n",
    "# b = 0\n",
    "# ab = 0\n",
    "# o = 0\n",
    "\n",
    "# for i in range(len(blood)):\n",
    "#     if 'A' == blood[i]:\n",
    "#         a += 1\n",
    "#     elif 'B' == blood[i]:\n",
    "#         b += 1\n",
    "#     elif 'O' == blood[i]:\n",
    "#         o += 1\n",
    "#     else :\n",
    "#         ab += 1\n",
    "    \n",
    "# print(a)\n",
    "# print(b)\n",
    "# print(ab)\n",
    "# print(o)"
   ]
  },
  {
   "cell_type": "code",
   "execution_count": 33,
   "metadata": {},
   "outputs": [
    {
     "name": "stdout",
     "output_type": "stream",
     "text": [
      "{'hihi': 0, 'hello': '안녕하세요'}\n",
      "{'hihi': 1, 'hello': '안녕하세요'}\n",
      "<class 'int'>\n"
     ]
    }
   ],
   "source": [
    "test_dict ={}\n",
    "test_dict[\"hihi\"] = 0\n",
    "test_dict[\"hello\"] = \"안녕하세요\"\n",
    "print(test_dict)\n",
    "test_dict[\"hihi\"] += 1\n",
    "print(test_dict)\n",
    "print(type(test_dict[\"hihi\"]))"
   ]
  },
  {
   "cell_type": "markdown",
   "metadata": {},
   "source": [
    "# 상승장? 하락장?"
   ]
  },
  {
   "cell_type": "code",
   "execution_count": 21,
   "metadata": {},
   "outputs": [
    {
     "name": "stdout",
     "output_type": "stream",
     "text": [
      "<class 'int'>\n",
      "4256000\n",
      "123000\n",
      "상승장\n"
     ]
    }
   ],
   "source": [
    "import requests\n",
    "\n",
    "url = \"https://api.bithumb.com/public/ticker/btc\"\n",
    "data = requests.get(url).json()['data']\n",
    "\n",
    "maximum = int(data['max_price'])\n",
    "minimum = int(data['min_price'])\n",
    "print(type(maximum))\n",
    "print(minimum)\n",
    "coin_range = maximum - minimum \n",
    "print(coin_range)\n",
    "start_price = int(data['opening_price'])\n",
    "\n",
    "# 시작가 + 변동폭이 최고가보다 높나요??\n",
    "if start_price + coin_range > maximum:\n",
    "    print(\"상승장\")\n",
    "else:\n",
    "    print(\"하락장\")\n",
    "    \n",
    "# 변동폭 : 최고가와 최저가의 차이\n",
    "# 시가 : 시작가\n",
    "# 상승장 : 시가 + 변동폭 이 최고가 보다 높을경우\n",
    "# 하락장 : 시가 + 변동폭 이 최고가 보다 낮은경우\n",
    "# opening_price : 최근 24시간 내 시작 거래금액\n",
    "# closing_price : 최근 24시간 내 마지막 거래금액\n",
    "# min_price : 최근 24시간 내 최저 거래 금액\n",
    "# max_price : 최근 24시간 내 최고 거래 금액"
   ]
  },
  {
   "cell_type": "markdown",
   "metadata": {},
   "source": [
    "# 모든코인 상승장? 하락장?"
   ]
  },
  {
   "cell_type": "code",
   "execution_count": 27,
   "metadata": {},
   "outputs": [
    {
     "name": "stdout",
     "output_type": "stream",
     "text": [
      "BTC\n",
      "<class 'dict'>\n",
      "ETH\n",
      "<class 'dict'>\n",
      "DASH\n",
      "<class 'dict'>\n",
      "LTC\n",
      "<class 'dict'>\n",
      "ETC\n",
      "<class 'dict'>\n",
      "XRP\n",
      "<class 'dict'>\n",
      "BCH\n",
      "<class 'dict'>\n",
      "XMR\n",
      "<class 'dict'>\n",
      "ZEC\n",
      "<class 'dict'>\n",
      "QTUM\n",
      "<class 'dict'>\n",
      "BTG\n",
      "<class 'dict'>\n",
      "EOS\n",
      "<class 'dict'>\n",
      "ICX\n",
      "<class 'dict'>\n",
      "VET\n",
      "<class 'dict'>\n",
      "TRX\n",
      "<class 'dict'>\n",
      "ELF\n",
      "<class 'dict'>\n",
      "MITH\n",
      "<class 'dict'>\n",
      "MCO\n",
      "<class 'dict'>\n",
      "OMG\n",
      "<class 'dict'>\n",
      "KNC\n",
      "<class 'dict'>\n",
      "GNT\n",
      "<class 'dict'>\n",
      "ZIL\n",
      "<class 'dict'>\n",
      "ETHOS\n",
      "<class 'dict'>\n",
      "PAY\n",
      "<class 'dict'>\n",
      "WAX\n",
      "<class 'dict'>\n",
      "POWR\n",
      "<class 'dict'>\n",
      "LRC\n",
      "<class 'dict'>\n",
      "GTO\n",
      "<class 'dict'>\n",
      "STEEM\n",
      "<class 'dict'>\n",
      "STRAT\n",
      "<class 'dict'>\n",
      "ZRX\n",
      "<class 'dict'>\n",
      "REP\n",
      "<class 'dict'>\n",
      "AE\n",
      "<class 'dict'>\n",
      "XEM\n",
      "<class 'dict'>\n",
      "SNT\n",
      "<class 'dict'>\n",
      "ADA\n",
      "<class 'dict'>\n",
      "PPT\n",
      "<class 'dict'>\n",
      "CTXC\n",
      "<class 'dict'>\n",
      "CMT\n",
      "<class 'dict'>\n",
      "THETA\n",
      "<class 'dict'>\n",
      "WTC\n",
      "<class 'dict'>\n",
      "ITC\n",
      "<class 'dict'>\n",
      "TRUE\n",
      "<class 'dict'>\n",
      "ABT\n",
      "<class 'dict'>\n",
      "RNT\n",
      "<class 'dict'>\n",
      "PLY\n",
      "<class 'dict'>\n",
      "WAVES\n",
      "<class 'dict'>\n",
      "LINK\n",
      "<class 'dict'>\n",
      "ENJ\n",
      "<class 'dict'>\n",
      "PST\n",
      "<class 'dict'>\n",
      "SALT\n",
      "<class 'dict'>\n",
      "RDN\n",
      "<class 'dict'>\n",
      "LOOM\n",
      "<class 'dict'>\n",
      "BHPC\n",
      "<class 'dict'>\n",
      "PIVX\n",
      "<class 'dict'>\n",
      "INS\n",
      "<class 'dict'>\n",
      "BCD\n",
      "<class 'dict'>\n",
      "BZNT\n",
      "<class 'dict'>\n",
      "XLM\n",
      "<class 'dict'>\n",
      "OCN\n",
      "<class 'dict'>\n",
      "BSV\n",
      "<class 'dict'>\n",
      "TMTG\n",
      "<class 'dict'>\n",
      "BAT\n",
      "<class 'dict'>\n",
      "WET\n",
      "<class 'dict'>\n",
      "XVG\n",
      "<class 'dict'>\n",
      "IOST\n",
      "<class 'dict'>\n",
      "POLY\n",
      "<class 'dict'>\n",
      "HC\n",
      "<class 'dict'>\n",
      "MEETONE\n",
      "<class 'list'>\n",
      "ADD\n",
      "<class 'list'>\n",
      "HORUS\n",
      "<class 'list'>\n",
      "CHL\n",
      "<class 'list'>\n",
      "EOSDAC\n",
      "<class 'list'>\n",
      "BLACK\n",
      "<class 'list'>\n",
      "ROM\n",
      "<class 'dict'>\n",
      "AMO\n",
      "<class 'dict'>\n",
      "date\n",
      "<class 'str'>\n"
     ]
    }
   ],
   "source": [
    "url = \"https://api.bithumb.com/public/ticker/all\"\n",
    "data = requests.get(url).json()['data']\n",
    "\n",
    "# print(type(data))\n",
    "for name, value in data.items():\n",
    "    if type(value) == type(dict()):\n",
    "#     print(name)\n",
    "#     print(type(value))"
   ]
  },
  {
   "cell_type": "code",
   "execution_count": 30,
   "metadata": {},
   "outputs": [
    {
     "name": "stdout",
     "output_type": "stream",
     "text": [
      "<class 'dict'>\n",
      "<class 'dict'>\n",
      "<class 'dict'>\n"
     ]
    }
   ],
   "source": [
    "# a = {}\n",
    "# print(type(a))\n",
    "# print(type({}))\n",
    "# print(type(dict()))"
   ]
  },
  {
   "cell_type": "code",
   "execution_count": null,
   "metadata": {},
   "outputs": [],
   "source": []
  },
  {
   "cell_type": "code",
   "execution_count": null,
   "metadata": {},
   "outputs": [],
   "source": []
  },
  {
   "cell_type": "code",
   "execution_count": null,
   "metadata": {},
   "outputs": [],
   "source": []
  },
  {
   "cell_type": "code",
   "execution_count": null,
   "metadata": {},
   "outputs": [],
   "source": []
  }
 ],
 "metadata": {
  "kernelspec": {
   "display_name": "Python 3",
   "language": "python",
   "name": "python3"
  },
  "language_info": {
   "codemirror_mode": {
    "name": "ipython",
    "version": 3
   },
   "file_extension": ".py",
   "mimetype": "text/x-python",
   "name": "python",
   "nbconvert_exporter": "python",
   "pygments_lexer": "ipython3",
   "version": "3.6.7"
  }
 },
 "nbformat": 4,
 "nbformat_minor": 2
}
