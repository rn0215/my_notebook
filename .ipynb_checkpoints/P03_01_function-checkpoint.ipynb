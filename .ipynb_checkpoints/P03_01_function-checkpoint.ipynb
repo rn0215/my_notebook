{
 "cells": [
  {
   "cell_type": "markdown",
   "metadata": {},
   "source": [
    "# `abs(x)`\n",
    "\n",
    "> 절대값은 숫자(int, float)가 들어오면 절대값을 반환하고, 복소수(complex)가 들어오면 그 크기를 반환합니다.\n",
    "> \n",
    "> `my_abs(x)`를 만들어보세요."
   ]
  },
  {
   "cell_type": "markdown",
   "metadata": {},
   "source": [
    "**공식문서**\n",
    "<center>\n",
    "    <img src=\"./images/P01/abs0.png\", alt=\"\">\n",
    "</center>"
   ]
  },
  {
   "cell_type": "markdown",
   "metadata": {},
   "source": [
    "**복소수 크기 구하는법**\n",
    "<center>\n",
    "    <img src=\"./images/P01/abs.png\", alt=\"\">\n",
    "</center>\n",
    "\n",
    "### 절댓값\n",
    "실수 값 a의 경우 절댓값\n",
    "- a가 0보다 크거나 같은경우 a\n",
    "- a가 0보다 작은 경우 -a\n",
    "\n",
    "복소수 크기\n",
    "- 복소수 크기(또는 절댓값)는 복소 평면에 플로팅된 원점에서 복소수 값까지의 벡터 길이 입니다.\n",
    "- 복소수 값의 경우 `|a+bi|` 는 `(a**2 + b**2)**0.5`"
   ]
  },
  {
   "cell_type": "code",
   "execution_count": 1,
   "metadata": {},
   "outputs": [
    {
     "name": "stdout",
     "output_type": "stream",
     "text": [
      "5.0 0.0 5\n"
     ]
    }
   ],
   "source": [
    "# 예제 입력 및 출력\n",
    "print(abs(3+4j), abs(-0.0), abs(-5))"
   ]
  },
  {
   "cell_type": "code",
   "execution_count": 16,
   "metadata": {},
   "outputs": [],
   "source": [
    "# 아래에 코드를 작성해주세요.\n",
    "def my_abs(num):\n",
    "    # 들어온 num이 int, float, complex ??? 어떤거야???\n",
    "    if type(num) == type(5j):\n",
    "        # 복소수 크기계산 코드 5+7j\n",
    "        return (num.real**2 + num.imag**2)**0.5\n",
    "    else:\n",
    "        if num <= 0:\n",
    "            return num * -1\n",
    "        else:\n",
    "            return num\n",
    "    "
   ]
  },
  {
   "cell_type": "code",
   "execution_count": 15,
   "metadata": {},
   "outputs": [
    {
     "name": "stdout",
     "output_type": "stream",
     "text": [
      "5.0 0.0 5\n"
     ]
    }
   ],
   "source": [
    "# 해당 코드를 통해 5.0 0.0 5가 나오는지 확인하세요.\n",
    "print(my_abs(3+4j), my_abs(-0.0), my_abs(-5))"
   ]
  },
  {
   "cell_type": "markdown",
   "metadata": {},
   "source": [
    "# `all(x)`\n",
    "\n",
    "> all은 인자로 받는 iterable(range, list)의 모든 요소가 참이거나 비어있으면 True를 반환합니다.\n",
    ">\n",
    "> 이와 같은 my_all(x)을 작성해보세요"
   ]
  },
  {
   "cell_type": "code",
   "execution_count": 6,
   "metadata": {},
   "outputs": [
    {
     "name": "stdout",
     "output_type": "stream",
     "text": [
      "True\n",
      "False\n",
      "False\n"
     ]
    }
   ],
   "source": [
    "# 예제 입력 및 출력\n",
    "print(all([1, 2, 5, '6']))\n",
    "print(all([[], 2, 5, '6']))"
   ]
  },
  {
   "cell_type": "code",
   "execution_count": 7,
   "metadata": {},
   "outputs": [],
   "source": [
    "# 아래에 코드를 작성해주세요.\n",
    "def my_all(my_list):\n",
    "    for e in my_list:\n",
    "        # 요소 하나하나를 비교해서 하나라도 False이니???\n",
    "        if not e:\n",
    "            # False를 반환\n",
    "            return False\n",
    "        \n",
    "    return True\n",
    "\n"
   ]
  },
  {
   "cell_type": "code",
   "execution_count": 9,
   "metadata": {},
   "outputs": [
    {
     "name": "stdout",
     "output_type": "stream",
     "text": [
      "True\n",
      "False\n"
     ]
    }
   ],
   "source": [
    "# 해당 코드를 통해 True False가 나오는지 확인하세요.\n",
    "print(my_all([1, 2, 5, '6']))\n",
    "print(my_all([ False , 2, 5, '6']))"
   ]
  },
  {
   "cell_type": "markdown",
   "metadata": {},
   "source": [
    "# `any(x)`\n",
    "\n",
    "> any는 인자로 받는 iterable(range, list)의 요소 중 하나라도 참이면 True를 반환하고, 비어있으면 False를 반환합니다. => 하나라도 True이면 True 비어있거나 전체다 False이면 Fasle\n",
    ">\n",
    "> 이와 같은 my_any(x)를 작성해보세요."
   ]
  },
  {
   "cell_type": "code",
   "execution_count": 10,
   "metadata": {},
   "outputs": [
    {
     "name": "stdout",
     "output_type": "stream",
     "text": [
      "True\n",
      "True\n",
      "False\n"
     ]
    }
   ],
   "source": [
    "# 예제 입력 및 출력\n",
    "print(any([1, 2, 5, '6']))\n",
    "print(any([[], 2, 5, '6']))\n",
    "print(any([0]))"
   ]
  },
  {
   "cell_type": "code",
   "execution_count": 11,
   "metadata": {},
   "outputs": [],
   "source": [
    "def my_any(my_list):\n",
    "    for e in my_list:\n",
    "        if e:\n",
    "            return True\n",
    "    return False"
   ]
  },
  {
   "cell_type": "code",
   "execution_count": 12,
   "metadata": {},
   "outputs": [
    {
     "name": "stdout",
     "output_type": "stream",
     "text": [
      "True\n",
      "True\n",
      "False\n"
     ]
    }
   ],
   "source": [
    "# 해당 코드를 통해 True True False가 나오는지 확인하세요.\n",
    "print(my_any([1, 2, 5, '6']))\n",
    "print(my_any([[], 2, 5, '6']))\n",
    "print(my_any([0]))"
   ]
  },
  {
   "cell_type": "markdown",
   "metadata": {},
   "source": [
    "# `bin(x)` - 난이도 높음\n",
    "\n",
    "> `양의 정수`를 받아서 앞에 '0b'를 붙어 있는 2진수로 표현됩니다.\n",
    ">\n",
    "> 이와 같은 `my_bin(x)`를 작성해보세요.\n",
    "\n",
    "* 음수는 고려하지 않아도 됩니다."
   ]
  },
  {
   "cell_type": "markdown",
   "metadata": {},
   "source": [
    "<center>\n",
    "    <img src=\"./images/P01/bin.png\", alt=\"bin\">\n",
    "</center>"
   ]
  },
  {
   "cell_type": "code",
   "execution_count": null,
   "metadata": {},
   "outputs": [],
   "source": [
    "# bin 예제 입력 및 출력\n",
    "print(bin(4096), bin(5))"
   ]
  },
  {
   "cell_type": "code",
   "execution_count": 34,
   "metadata": {},
   "outputs": [
    {
     "data": {
      "text/plain": [
       "'0b101'"
      ]
     },
     "execution_count": 34,
     "metadata": {},
     "output_type": "execute_result"
    }
   ],
   "source": [
    "# 아래에 코드를 작성해주세요.\n",
    "def my_bin(n):\n",
    "    result = \"\"\n",
    "    while n >= 1:\n",
    "        q, r = divmod(n, 2)\n",
    "        result += str(r)\n",
    "        n = n // 2 # n//=2\n",
    "    return \"0b\" + result[::-1]\n",
    "\n",
    "def my_bin_r(n):\n",
    "    q,r = divmod(n,2)\n",
    "    if q == 0:\n",
    "        return '0b' + str(r)\n",
    "    else:\n",
    "        return my_bin_r(q) + str(r)\n",
    "my_bin_r(5)"
   ]
  },
  {
   "cell_type": "code",
   "execution_count": 35,
   "metadata": {},
   "outputs": [
    {
     "name": "stdout",
     "output_type": "stream",
     "text": [
      "True\n",
      "0b1000000000000\n",
      "0b1000000000000\n",
      "True\n"
     ]
    }
   ],
   "source": [
    "# my_bin 예제 입력 및 출력\n",
    "print(my_bin(4096) == bin(4096))\n",
    "print(my_bin(4096))\n",
    "print(bin(4096))\n",
    "print(my_bin(5) == bin(5))"
   ]
  },
  {
   "cell_type": "code",
   "execution_count": 37,
   "metadata": {},
   "outputs": [
    {
     "data": {
      "text/plain": [
       "'a'"
      ]
     },
     "execution_count": 37,
     "metadata": {},
     "output_type": "execute_result"
    }
   ],
   "source": [
    "\"b\" and \"a\""
   ]
  },
  {
   "cell_type": "code",
   "execution_count": 40,
   "metadata": {},
   "outputs": [
    {
     "data": {
      "text/plain": [
       "True"
      ]
     },
     "execution_count": 40,
     "metadata": {},
     "output_type": "execute_result"
    }
   ],
   "source": [
    "\"b\" and \"\" in \" \""
   ]
  }
 ],
 "metadata": {
  "kernelspec": {
   "display_name": "Python 3",
   "language": "python",
   "name": "python3"
  },
  "language_info": {
   "codemirror_mode": {
    "name": "ipython",
    "version": 3
   },
   "file_extension": ".py",
   "mimetype": "text/x-python",
   "name": "python",
   "nbconvert_exporter": "python",
   "pygments_lexer": "ipython3",
   "version": "3.6.7"
  },
  "toc": {
   "base_numbering": 1,
   "nav_menu": {},
   "number_sections": true,
   "sideBar": true,
   "skip_h1_title": false,
   "title_cell": "Table of Contents",
   "title_sidebar": "Contents",
   "toc_cell": false,
   "toc_position": {},
   "toc_section_display": true,
   "toc_window_display": false
  }
 },
 "nbformat": 4,
 "nbformat_minor": 2
}
