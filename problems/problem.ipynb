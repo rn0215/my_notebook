{
 "cells": [
  {
   "cell_type": "markdown",
   "metadata": {},
   "source": [
    "- 두개의 정수 n,m이 주어집니다. 반복문을 사용하지 않고 가로가 n, 세로가 m인 * 로 이루어진 사각형을 출력해주세요\n",
    "\n",
    "- 예시\n",
    "    - n : 5 / m : 4\n",
    "    ```\n",
    "    *****\n",
    "    *****\n",
    "    *****\n",
    "    *****\n",
    "    ```"
   ]
  },
  {
   "cell_type": "code",
   "execution_count": 3,
   "metadata": {},
   "outputs": [
    {
     "name": "stdout",
     "output_type": "stream",
     "text": [
      "*****\n",
      "*****\n",
      "*****\n",
      "*****\n",
      "\n"
     ]
    }
   ],
   "source": [
    "n = 5\n",
    "m = 4\n",
    "a = \"*\"*n\n",
    "b = f\"{a}\\n\"*m\n",
    "print(b)"
   ]
  },
  {
   "cell_type": "code",
   "execution_count": 13,
   "metadata": {},
   "outputs": [
    {
     "name": "stdout",
     "output_type": "stream",
     "text": [
      "(1, 2, 3, 4, 1, 2, 3, 4, 1, 2, 3, 4, 1, 2, 3, 4, 1, 2, 3, 4, 1, 2, 3, 4)\n"
     ]
    }
   ],
   "source": []
  },
  {
   "cell_type": "markdown",
   "metadata": {},
   "source": [
    "- 다음 딕셔너리에서 평균 점수를 구하세요\n",
    "```\n",
    "student = {'python':80, 'algorithm':78, 'django':95, 'flask':80}\n",
    "```"
   ]
  },
  {
   "cell_type": "code",
   "execution_count": 19,
   "metadata": {},
   "outputs": [
    {
     "name": "stdout",
     "output_type": "stream",
     "text": [
      "83.25\n"
     ]
    }
   ],
   "source": [
    "student = {'python':80, 'algorithm':78, 'django':95, 'flask':80}\n",
    "\n",
    "# 헐 이렇게도 된다고????\n",
    "# print(sum(student.values()) / len(student))\n",
    "\n",
    "a=0\n",
    "for score in student.values():\n",
    "    a=score+a\n",
    "print(a/len(student))\n",
    "    \n"
   ]
  },
  {
   "cell_type": "markdown",
   "metadata": {},
   "source": [
    "- 다음은 학생들의 혈액형(A,B,O,AB)에 대한 데이터 이다.\n",
    "- for문을 활용하여 각 혈액형별 학생수를 구하세요\n",
    "```python\n",
    "blood = ['A','B','O','A','B','A','AB','AB','O','A','O','AB','O']\n",
    "```"
   ]
  },
  {
   "cell_type": "code",
   "execution_count": 24,
   "metadata": {},
   "outputs": [
    {
     "name": "stdout",
     "output_type": "stream",
     "text": [
      "A\n",
      "B\n",
      "O\n",
      "A\n",
      "B\n",
      "A\n",
      "AB\n",
      "AB\n",
      "O\n",
      "A\n",
      "O\n",
      "AB\n",
      "O\n"
     ]
    }
   ],
   "source": [
    "blood = ['A','A','B','O','A','B','A','AB','AB','O','A','O','AB','O']\n",
    "\n",
    "blood_dict = {'A':1}\n",
    "\n",
    "for b in blood:\n",
    "    print(b)\n",
    "    if b in blood_dict:\n",
    "        \n",
    "    else:\n",
    "        blood_dict[b] = 1\n",
    "\n",
    "# a = 0\n",
    "# b = 0\n",
    "# ab = 0\n",
    "# o = 0\n",
    "\n",
    "# for i in range(len(blood)):\n",
    "#     if 'A' == blood[i]:\n",
    "#         a += 1\n",
    "#     elif 'B' == blood[i]:\n",
    "#         b += 1\n",
    "#     elif 'O' == blood[i]:\n",
    "#         o += 1\n",
    "#     else :\n",
    "#         ab += 1\n",
    "    \n",
    "# print(a)\n",
    "# print(b)\n",
    "# print(ab)\n",
    "# print(o)"
   ]
  },
  {
   "cell_type": "code",
   "execution_count": 33,
   "metadata": {},
   "outputs": [
    {
     "name": "stdout",
     "output_type": "stream",
     "text": [
      "{'hihi': 0, 'hello': '안녕하세요'}\n",
      "{'hihi': 1, 'hello': '안녕하세요'}\n",
      "<class 'int'>\n"
     ]
    }
   ],
   "source": [
    "test_dict ={}\n",
    "test_dict[\"hihi\"] = 0\n",
    "test_dict[\"hello\"] = \"안녕하세요\"\n",
    "print(test_dict)\n",
    "test_dict[\"hihi\"] += 1\n",
    "print(test_dict)\n",
    "print(type(test_dict[\"hihi\"]))"
   ]
  },
  {
   "cell_type": "markdown",
   "metadata": {},
   "source": [
    "# 상승장? 하락장?"
   ]
  },
  {
   "cell_type": "code",
   "execution_count": 21,
   "metadata": {},
   "outputs": [
    {
     "name": "stdout",
     "output_type": "stream",
     "text": [
      "<class 'int'>\n",
      "4256000\n",
      "123000\n",
      "상승장\n"
     ]
    }
   ],
   "source": [
    "import requests\n",
    "\n",
    "url = \"https://api.bithumb.com/public/ticker/btc\"\n",
    "data = requests.get(url).json()['data']\n",
    "\n",
    "maximum = int(data['max_price'])\n",
    "minimum = int(data['min_price'])\n",
    "# print(type(maximum))\n",
    "# print(minimum)\n",
    "coin_range = maximum - minimum \n",
    "# print(coin_range)\n",
    "start_price = int(data['opening_price'])\n",
    "\n",
    "# 시작가 + 변동폭이 최고가보다 높나요??\n",
    "if start_price + coin_range > maximum:\n",
    "    print(\"상승장\")\n",
    "else:\n",
    "    print(\"하락장\")\n",
    "    \n",
    "# 변동폭 : 최고가와 최저가의 차이\n",
    "# 시가 : 시작가\n",
    "# 상승장 : 시가 + 변동폭 이 최고가 보다 높을경우\n",
    "# 하락장 : 시가 + 변동폭 이 최고가 보다 낮은경우\n",
    "# opening_price : 최근 24시간 내 시작 거래금액\n",
    "# closing_price : 최근 24시간 내 마지막 거래금액\n",
    "# min_price : 최근 24시간 내 최저 거래 금액\n",
    "# max_price : 최근 24시간 내 최고 거래 금액"
   ]
  },
  {
   "cell_type": "markdown",
   "metadata": {},
   "source": [
    "# 모든코인 상승장? 하락장?"
   ]
  },
  {
   "cell_type": "code",
   "execution_count": 34,
   "metadata": {},
   "outputs": [
    {
     "name": "stdout",
     "output_type": "stream",
     "text": [
      "BTC : 상승장\n",
      "ETH : 상승장\n",
      "DASH : 상승장\n",
      "LTC : 하락장\n",
      "ETC : 상승장\n",
      "XRP : 하락장\n",
      "BCH : 상승장\n",
      "XMR : 상승장\n",
      "ZEC : 하락장\n",
      "QTUM : 상승장\n",
      "BTG : 상승장\n",
      "EOS : 상승장\n",
      "ICX : 하락장\n",
      "VET : 상승장\n",
      "TRX : 상승장\n",
      "ELF : 상승장\n",
      "MITH : 상승장\n",
      "MCO : 상승장\n",
      "OMG : 상승장\n",
      "KNC : 상승장\n",
      "GNT : 상승장\n",
      "ZIL : 상승장\n",
      "ETHOS : 상승장\n",
      "PAY : 상승장\n",
      "WAX : 상승장\n",
      "POWR : 상승장\n",
      "LRC : 상승장\n",
      "GTO : 상승장\n",
      "STEEM : 상승장\n",
      "STRAT : 상승장\n",
      "ZRX : 상승장\n",
      "REP : 상승장\n",
      "AE : 상승장\n",
      "XEM : 상승장\n",
      "SNT : 상승장\n",
      "ADA : 하락장\n",
      "PPT : 상승장\n",
      "CTXC : 상승장\n",
      "CMT : 상승장\n",
      "THETA : 상승장\n",
      "WTC : 상승장\n",
      "ITC : 상승장\n",
      "TRUE : 하락장\n",
      "ABT : 상승장\n",
      "RNT : 상승장\n",
      "PLY : 상승장\n",
      "WAVES : 상승장\n",
      "LINK : 상승장\n",
      "ENJ : 상승장\n",
      "PST : 상승장\n",
      "SALT : 하락장\n",
      "RDN : 상승장\n",
      "LOOM : 상승장\n",
      "BHPC : 상승장\n",
      "PIVX : 상승장\n",
      "INS : 상승장\n",
      "BCD : 상승장\n",
      "BZNT : 상승장\n",
      "XLM : 상승장\n",
      "OCN : 상승장\n",
      "BSV : 상승장\n",
      "TMTG : 상승장\n",
      "BAT : 상승장\n",
      "WET : 상승장\n",
      "XVG : 상승장\n",
      "IOST : 상승장\n",
      "POLY : 상승장\n",
      "HC : 상승장\n",
      "ROM : 상승장\n",
      "AMO : 상승장\n"
     ]
    }
   ],
   "source": [
    "url = \"https://api.bithumb.com/public/ticker/all\"\n",
    "data = requests.get(url).json()['data']\n",
    "\n",
    "# print(type(data))\n",
    "for name, value in data.items():\n",
    "    if type(value) == type(dict()):\n",
    "        # 상승장인지 하락장인지 확인하기!!!\n",
    "        maximum = float(value['max_price'])\n",
    "        minimum = float(value['min_price'])\n",
    "        coin_range = maximum - minimum \n",
    "        start_price = float(value['opening_price'])\n",
    "        # 시작가 + 변동폭이 최고가보다 높나요??\n",
    "        if start_price + coin_range > maximum:\n",
    "            print(f\"{name} : 상승장\")\n",
    "        else:\n",
    "            print(f\"{name} : 하락장\")\n",
    "    else:\n",
    "        # 데이터가 없는 코인이기 때문에 다음으로 넘기기\n",
    "        continue\n",
    "        \n",
    "        \n",
    "#     print(name)\n",
    "#     print(type(value))"
   ]
  },
  {
   "cell_type": "code",
   "execution_count": 30,
   "metadata": {},
   "outputs": [
    {
     "name": "stdout",
     "output_type": "stream",
     "text": [
      "<class 'dict'>\n",
      "<class 'dict'>\n",
      "<class 'dict'>\n"
     ]
    }
   ],
   "source": [
    "# a = {}\n",
    "# print(type(a))\n",
    "# print(type({}))\n",
    "# print(type(dict()))"
   ]
  },
  {
   "cell_type": "code",
   "execution_count": null,
   "metadata": {},
   "outputs": [],
   "source": []
  },
  {
   "cell_type": "code",
   "execution_count": null,
   "metadata": {},
   "outputs": [],
   "source": []
  },
  {
   "cell_type": "code",
   "execution_count": null,
   "metadata": {},
   "outputs": [],
   "source": []
  },
  {
   "cell_type": "code",
   "execution_count": null,
   "metadata": {},
   "outputs": [],
   "source": []
  }
 ],
 "metadata": {
  "kernelspec": {
   "display_name": "Python 3",
   "language": "python",
   "name": "python3"
  },
  "language_info": {
   "codemirror_mode": {
    "name": "ipython",
    "version": 3
   },
   "file_extension": ".py",
   "mimetype": "text/x-python",
   "name": "python",
   "nbconvert_exporter": "python",
   "pygments_lexer": "ipython3",
   "version": "3.6.7"
  }
 },
 "nbformat": 4,
 "nbformat_minor": 2
}
